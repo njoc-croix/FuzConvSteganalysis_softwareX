{
  "cells": [
    {
      "cell_type": "markdown",
      "metadata": {
        "id": "MgIRruEYFPZb"
      },
      "source": [
        "# FuzConvTrue"
      ]
    },
    {
      "cell_type": "code",
      "execution_count": 1,
      "metadata": {
        "colab": {
          "base_uri": "https://localhost:8080/"
        },
        "id": "C3rC77OdFPZg",
        "outputId": "b32e1fc1-4f37-42f5-a1a9-f43647522a86"
      },
      "outputs": [
        {
          "output_type": "stream",
          "name": "stdout",
          "text": [
            "Drive already mounted at /content/drive; to attempt to forcibly remount, call drive.mount(\"/content/drive\", force_remount=True).\n"
          ]
        }
      ],
      "source": [
        "from google.colab import drive\n",
        "drive.mount('/content/drive')"
      ]
    },
    {
      "cell_type": "markdown",
      "metadata": {
        "id": "Uzup9mDsFPZi"
      },
      "source": [
        "## Libraries"
      ]
    },
    {
      "cell_type": "code",
      "execution_count": 39,
      "metadata": {
        "id": "3aMaR_T-FPZj"
      },
      "outputs": [],
      "source": [
        "\n",
        "import numpy as np\n",
        "import random\n",
        "import os\n",
        "import matplotlib as mpl\n",
        "import matplotlib.pyplot as plt\n",
        "import matplotlib.colors as colors\n",
        "from keras.layers import Activation\n",
        "import tensorflow as tf\n",
        "import cv2\n",
        "from tensorflow.keras.layers import Lambda, Layer, ReLU\n",
        "from tensorflow.keras.models import Sequential\n",
        "from tensorflow.keras.layers import Input, Conv2D, Activation, Flatten, Concatenate, BatchNormalization, SpatialDropout2D, SeparableConv2D, Add, Lambda, AveragePooling2D, GlobalAveragePooling2D, Dense, Dropout\n",
        "from keras.layers.core import Reshape\n",
        "from keras import optimizers\n",
        "from tensorflow.keras import regularizers\n",
        "from keras import Input, Model\n",
        "from time import time\n",
        "import time as tm\n",
        "from keras.initializers import Constant, RandomNormal, glorot_normal\n",
        "from tensorflow.keras.models import load_model\n",
        "from tensorflow.keras.activations import tanh\n",
        "from tensorflow.keras.regularizers import l2\n",
        "from keras import backend as K\n",
        "from tensorflow.keras.utils import plot_model"
      ]
    },
    {
      "cell_type": "markdown",
      "metadata": {
        "id": "yVJpAPWFFPZk"
      },
      "source": [
        "## 30 SRM filters for preprocessing and the activation function"
      ]
    },
    {
      "cell_type": "code",
      "execution_count": 40,
      "metadata": {
        "id": "pnYLjyBaFPZk"
      },
      "outputs": [],
      "source": [
        "################################################## 30 SRM FILTERS\n",
        "srm_weights = np.load('drive/MyDrive/SIMPA_EGYPTIAN/4_Work_Jean_SIMPA/Python_codes/SRM_Filters/SRM.npy') \n",
        "biasSRM = np.ones(30)\n",
        "#print (srm_weights.shape)\n",
        "################################################## TANH ACTIVATION FUNCTION\n",
        "T3 = 3;\n",
        "def Tanh3(x):\n",
        "    tanh3 = K.tanh(x)*T3\n",
        "    return tanh3\n",
        "##################################################"
      ]
    },
    {
      "cell_type": "markdown",
      "metadata": {
        "id": "whMenLy_FPZl"
      },
      "source": [
        "## Architecture"
      ]
    },
    {
      "cell_type": "code",
      "execution_count": 41,
      "metadata": {
        "id": "xhqyYSQ9FPZm"
      },
      "outputs": [],
      "source": [
        "def FuzConvTrue(img_size=256):\n",
        "    inputs = Input(shape=(img_size, img_size, 1), name=\"input_1\")\n",
        "\n",
        "    # Layer 1\n",
        "    layers = Conv2D(30, (5, 5), strides=(1, 1), padding=\"same\", activation=tanh)(inputs)\n",
        "    lay = BatchNormalization()(layers)\n",
        "\n",
        "    # Layer 2\n",
        "    lay = SpatialDropout2D(rate=0.1)(lay)\n",
        "    njoc = SeparableConv2D(30, (3, 3), activation=\"relu\", depth_multiplier=3, padding=\"same\")(lay)\n",
        "    njoc = Lambda(abs)(njoc)\n",
        "    njoc = BatchNormalization()(njoc)\n",
        "    njoc = SeparableConv2D(30, (3, 3), activation=\"relu\", depth_multiplier=3, padding=\"same\")(njoc)\n",
        "    njoc = Lambda(abs)(njoc)\n",
        "    njoc = BatchNormalization()(njoc)\n",
        "    layers = Add()([njoc, lay])\n",
        "\n",
        "    # Layer 3\n",
        "    lay = SpatialDropout2D(rate=0.1)(lay)\n",
        "    njoc = SeparableConv2D(30, (3, 3), activation=\"relu\", depth_multiplier=3, padding=\"same\")(lay)\n",
        "    njoc = Lambda(abs)(njoc)\n",
        "    njoc = BatchNormalization()(njoc)\n",
        "    njoc = SeparableConv2D(30, (3, 3), activation=\"relu\", depth_multiplier=3, padding=\"same\")(njoc)\n",
        "    njoc = Lambda(abs)(njoc)\n",
        "    njoc = BatchNormalization()(njoc)\n",
        "    layers = Add()([njoc, lay])\n",
        "\n",
        "    # Layer 4\n",
        "    layers = Conv2D(32, (3, 3), strides=(1, 1), activation=\"relu\", kernel_initializer='glorot_normal', padding='same')(layers)\n",
        "    layers = Lambda(abs)(layers)\n",
        "    layers = BatchNormalization()(layers)\n",
        "    layers = AveragePooling2D((5, 5), strides=(2, 2), padding=\"same\")(layers)\n",
        "    layers = Conv2D(32, (3, 3), strides=(1, 1), activation=\"relu\", kernel_initializer='glorot_normal', padding=\"same\")(layers)\n",
        "    layers = Lambda(abs)(layers)\n",
        "    layers = BatchNormalization()(layers)\n",
        "    layers = AveragePooling2D((5, 5), strides=(2, 2), padding=\"same\")(layers)\n",
        "\n",
        "    # Layer 5\n",
        "    layers = Conv2D(64, (3, 3), strides=(1, 1), activation=\"relu\", kernel_initializer='glorot_normal', padding=\"same\")(layers)\n",
        "    layers = Lambda(abs)(layers)\n",
        "    layers = BatchNormalization()(layers)\n",
        "    layers = AveragePooling2D((5, 5), strides=(2, 2), padding=\"same\")(layers)\n",
        "    layers = Conv2D(128, (5, 5), strides=(1, 1), activation=\"relu\", kernel_initializer='glorot_normal', padding=\"same\")(layers)\n",
        "    layers = Lambda(abs)(layers)\n",
        "    layers = BatchNormalization()(layers)\n",
        "\n",
        "    # Layer 6\n",
        "    layers = GlobalAveragePooling2D(data_format=\"channels_last\")(layers)\n",
        "\n",
        "    # Layer 7, FC, Softmax\n",
        "    layers = Dense(128, activation=\"relu\")(layers)\n",
        "    layers = Dropout(0.2)(layers)\n",
        "    layers = Dense(64, activation=\"relu\")(layers)\n",
        "    layers = Dropout(0.2)(layers)\n",
        "    layers = Dense(32, activation=\"relu\")(layers)\n",
        "\n",
        "    # Softmax\n",
        "    predictions = Dense(2, activation=\"softmax\", name=\"output_1\")(layers)\n",
        "\n",
        "    # Model generation\n",
        "    model = Model(inputs=inputs, outputs=predictions)\n",
        "\n",
        "    # Optimizer\n",
        "    optimizer = tf.keras.optimizers.RMSprop(learning_rate=0.001, rho=0.9)\n",
        "\n",
        "    # Compilator\n",
        "    model.compile(optimizer=optimizer, loss='binary_crossentropy', metrics=['accuracy'])\n",
        "    print(\"FuzConvTrue model generated\")\n",
        "    return model\n",
        "\n",
        "\n"
      ]
    },
    {
      "cell_type": "markdown",
      "source": [
        "Saving the model architecture"
      ],
      "metadata": {
        "id": "vXXj20jZXN5-"
      }
    },
    {
      "cell_type": "code",
      "source": [
        "!pip install tensorflow matplotlib python-docx\n",
        "\n",
        "from docx import Document\n",
        "\n",
        "def FuzConvTrue_model_summary(model, filename):\n",
        "    # Output directory\n",
        "    output_dir = '/content/drive/My Drive/SIMPA_EGYPTIAN/4_Work_Jean_SIMPA/Python_codes/Architecture_Model/'\n",
        "    \n",
        "    # model summary as image\n",
        "    image_path = os.path.join(output_dir, 'FuzConvTrue_model_summary.png')\n",
        "    plot_model(model, to_file=image_path, show_shapes=True)\n",
        "\n",
        "    #  model summary as MS-Word table\n",
        "    doc = Document()\n",
        "    table = doc.add_table(rows=1, cols=3)\n",
        "    table.style = 'Table Grid'\n",
        "    table.autofit = False\n",
        "\n",
        "    # headers of the table\n",
        "    headers = ['Layer (type)', 'Input Shape','Output Shape']\n",
        "    for i, header in enumerate(headers):\n",
        "        cell = table.cell(0, i)\n",
        "        cell.text = header\n",
        "\n",
        "    # layer information to the table\n",
        "    for layer in model.layers:\n",
        "        row = table.add_row().cells\n",
        "        row[0].text = layer.name\n",
        "        row[1].text = str(layer.input_shape)\n",
        "        row[2].text = str(layer.output_shape)\n",
        "\n",
        "    # Save the Word document\n",
        "    doc_path = os.path.join(output_dir, filename)\n",
        "    doc.save(doc_path)\n",
        "\n",
        "model = FuzConvTrue()\n",
        "FuzConvTrue_model_summary(model, 'FuzConvTrue_model_summary.docx')\n",
        "\n"
      ],
      "metadata": {
        "colab": {
          "base_uri": "https://localhost:8080/"
        },
        "id": "pBFJv6PKXSau",
        "outputId": "ab777429-4e6d-4de7-8087-6825f8521355"
      },
      "execution_count": 17,
      "outputs": [
        {
          "output_type": "stream",
          "name": "stdout",
          "text": [
            "Looking in indexes: https://pypi.org/simple, https://us-python.pkg.dev/colab-wheels/public/simple/\n",
            "Requirement already satisfied: tensorflow in /usr/local/lib/python3.10/dist-packages (2.12.0)\n",
            "Requirement already satisfied: matplotlib in /usr/local/lib/python3.10/dist-packages (3.7.1)\n",
            "Collecting python-docx\n",
            "  Downloading python-docx-0.8.11.tar.gz (5.6 MB)\n",
            "\u001b[2K     \u001b[90m━━━━━━━━━━━━━━━━━━━━━━━━━━━━━━━━━━━━━━━━\u001b[0m \u001b[32m5.6/5.6 MB\u001b[0m \u001b[31m104.2 MB/s\u001b[0m eta \u001b[36m0:00:00\u001b[0m\n",
            "\u001b[?25h  Preparing metadata (setup.py) ... \u001b[?25l\u001b[?25hdone\n",
            "Requirement already satisfied: absl-py>=1.0.0 in /usr/local/lib/python3.10/dist-packages (from tensorflow) (1.4.0)\n",
            "Requirement already satisfied: astunparse>=1.6.0 in /usr/local/lib/python3.10/dist-packages (from tensorflow) (1.6.3)\n",
            "Requirement already satisfied: flatbuffers>=2.0 in /usr/local/lib/python3.10/dist-packages (from tensorflow) (23.3.3)\n",
            "Requirement already satisfied: gast<=0.4.0,>=0.2.1 in /usr/local/lib/python3.10/dist-packages (from tensorflow) (0.4.0)\n",
            "Requirement already satisfied: google-pasta>=0.1.1 in /usr/local/lib/python3.10/dist-packages (from tensorflow) (0.2.0)\n",
            "Requirement already satisfied: grpcio<2.0,>=1.24.3 in /usr/local/lib/python3.10/dist-packages (from tensorflow) (1.54.0)\n",
            "Requirement already satisfied: h5py>=2.9.0 in /usr/local/lib/python3.10/dist-packages (from tensorflow) (3.8.0)\n",
            "Requirement already satisfied: jax>=0.3.15 in /usr/local/lib/python3.10/dist-packages (from tensorflow) (0.4.10)\n",
            "Requirement already satisfied: keras<2.13,>=2.12.0 in /usr/local/lib/python3.10/dist-packages (from tensorflow) (2.12.0)\n",
            "Requirement already satisfied: libclang>=13.0.0 in /usr/local/lib/python3.10/dist-packages (from tensorflow) (16.0.0)\n",
            "Requirement already satisfied: numpy<1.24,>=1.22 in /usr/local/lib/python3.10/dist-packages (from tensorflow) (1.22.4)\n",
            "Requirement already satisfied: opt-einsum>=2.3.2 in /usr/local/lib/python3.10/dist-packages (from tensorflow) (3.3.0)\n",
            "Requirement already satisfied: packaging in /usr/local/lib/python3.10/dist-packages (from tensorflow) (23.1)\n",
            "Requirement already satisfied: protobuf!=4.21.0,!=4.21.1,!=4.21.2,!=4.21.3,!=4.21.4,!=4.21.5,<5.0.0dev,>=3.20.3 in /usr/local/lib/python3.10/dist-packages (from tensorflow) (3.20.3)\n",
            "Requirement already satisfied: setuptools in /usr/local/lib/python3.10/dist-packages (from tensorflow) (67.7.2)\n",
            "Requirement already satisfied: six>=1.12.0 in /usr/local/lib/python3.10/dist-packages (from tensorflow) (1.16.0)\n",
            "Requirement already satisfied: tensorboard<2.13,>=2.12 in /usr/local/lib/python3.10/dist-packages (from tensorflow) (2.12.2)\n",
            "Requirement already satisfied: tensorflow-estimator<2.13,>=2.12.0 in /usr/local/lib/python3.10/dist-packages (from tensorflow) (2.12.0)\n",
            "Requirement already satisfied: termcolor>=1.1.0 in /usr/local/lib/python3.10/dist-packages (from tensorflow) (2.3.0)\n",
            "Requirement already satisfied: typing-extensions>=3.6.6 in /usr/local/lib/python3.10/dist-packages (from tensorflow) (4.5.0)\n",
            "Requirement already satisfied: wrapt<1.15,>=1.11.0 in /usr/local/lib/python3.10/dist-packages (from tensorflow) (1.14.1)\n",
            "Requirement already satisfied: tensorflow-io-gcs-filesystem>=0.23.1 in /usr/local/lib/python3.10/dist-packages (from tensorflow) (0.32.0)\n",
            "Requirement already satisfied: contourpy>=1.0.1 in /usr/local/lib/python3.10/dist-packages (from matplotlib) (1.0.7)\n",
            "Requirement already satisfied: cycler>=0.10 in /usr/local/lib/python3.10/dist-packages (from matplotlib) (0.11.0)\n",
            "Requirement already satisfied: fonttools>=4.22.0 in /usr/local/lib/python3.10/dist-packages (from matplotlib) (4.39.3)\n",
            "Requirement already satisfied: kiwisolver>=1.0.1 in /usr/local/lib/python3.10/dist-packages (from matplotlib) (1.4.4)\n",
            "Requirement already satisfied: pillow>=6.2.0 in /usr/local/lib/python3.10/dist-packages (from matplotlib) (8.4.0)\n",
            "Requirement already satisfied: pyparsing>=2.3.1 in /usr/local/lib/python3.10/dist-packages (from matplotlib) (3.0.9)\n",
            "Requirement already satisfied: python-dateutil>=2.7 in /usr/local/lib/python3.10/dist-packages (from matplotlib) (2.8.2)\n",
            "Requirement already satisfied: lxml>=2.3.2 in /usr/local/lib/python3.10/dist-packages (from python-docx) (4.9.2)\n",
            "Requirement already satisfied: wheel<1.0,>=0.23.0 in /usr/local/lib/python3.10/dist-packages (from astunparse>=1.6.0->tensorflow) (0.40.0)\n",
            "Requirement already satisfied: ml-dtypes>=0.1.0 in /usr/local/lib/python3.10/dist-packages (from jax>=0.3.15->tensorflow) (0.1.0)\n",
            "Requirement already satisfied: scipy>=1.7 in /usr/local/lib/python3.10/dist-packages (from jax>=0.3.15->tensorflow) (1.10.1)\n",
            "Requirement already satisfied: google-auth<3,>=1.6.3 in /usr/local/lib/python3.10/dist-packages (from tensorboard<2.13,>=2.12->tensorflow) (2.17.3)\n",
            "Requirement already satisfied: google-auth-oauthlib<1.1,>=0.5 in /usr/local/lib/python3.10/dist-packages (from tensorboard<2.13,>=2.12->tensorflow) (1.0.0)\n",
            "Requirement already satisfied: markdown>=2.6.8 in /usr/local/lib/python3.10/dist-packages (from tensorboard<2.13,>=2.12->tensorflow) (3.4.3)\n",
            "Requirement already satisfied: requests<3,>=2.21.0 in /usr/local/lib/python3.10/dist-packages (from tensorboard<2.13,>=2.12->tensorflow) (2.27.1)\n",
            "Requirement already satisfied: tensorboard-data-server<0.8.0,>=0.7.0 in /usr/local/lib/python3.10/dist-packages (from tensorboard<2.13,>=2.12->tensorflow) (0.7.0)\n",
            "Requirement already satisfied: tensorboard-plugin-wit>=1.6.0 in /usr/local/lib/python3.10/dist-packages (from tensorboard<2.13,>=2.12->tensorflow) (1.8.1)\n",
            "Requirement already satisfied: werkzeug>=1.0.1 in /usr/local/lib/python3.10/dist-packages (from tensorboard<2.13,>=2.12->tensorflow) (2.3.0)\n",
            "Requirement already satisfied: cachetools<6.0,>=2.0.0 in /usr/local/lib/python3.10/dist-packages (from google-auth<3,>=1.6.3->tensorboard<2.13,>=2.12->tensorflow) (5.3.0)\n",
            "Requirement already satisfied: pyasn1-modules>=0.2.1 in /usr/local/lib/python3.10/dist-packages (from google-auth<3,>=1.6.3->tensorboard<2.13,>=2.12->tensorflow) (0.3.0)\n",
            "Requirement already satisfied: rsa<5,>=3.1.4 in /usr/local/lib/python3.10/dist-packages (from google-auth<3,>=1.6.3->tensorboard<2.13,>=2.12->tensorflow) (4.9)\n",
            "Requirement already satisfied: requests-oauthlib>=0.7.0 in /usr/local/lib/python3.10/dist-packages (from google-auth-oauthlib<1.1,>=0.5->tensorboard<2.13,>=2.12->tensorflow) (1.3.1)\n",
            "Requirement already satisfied: urllib3<1.27,>=1.21.1 in /usr/local/lib/python3.10/dist-packages (from requests<3,>=2.21.0->tensorboard<2.13,>=2.12->tensorflow) (1.26.15)\n",
            "Requirement already satisfied: certifi>=2017.4.17 in /usr/local/lib/python3.10/dist-packages (from requests<3,>=2.21.0->tensorboard<2.13,>=2.12->tensorflow) (2022.12.7)\n",
            "Requirement already satisfied: charset-normalizer~=2.0.0 in /usr/local/lib/python3.10/dist-packages (from requests<3,>=2.21.0->tensorboard<2.13,>=2.12->tensorflow) (2.0.12)\n",
            "Requirement already satisfied: idna<4,>=2.5 in /usr/local/lib/python3.10/dist-packages (from requests<3,>=2.21.0->tensorboard<2.13,>=2.12->tensorflow) (3.4)\n",
            "Requirement already satisfied: MarkupSafe>=2.1.1 in /usr/local/lib/python3.10/dist-packages (from werkzeug>=1.0.1->tensorboard<2.13,>=2.12->tensorflow) (2.1.2)\n",
            "Requirement already satisfied: pyasn1<0.6.0,>=0.4.6 in /usr/local/lib/python3.10/dist-packages (from pyasn1-modules>=0.2.1->google-auth<3,>=1.6.3->tensorboard<2.13,>=2.12->tensorflow) (0.5.0)\n",
            "Requirement already satisfied: oauthlib>=3.0.0 in /usr/local/lib/python3.10/dist-packages (from requests-oauthlib>=0.7.0->google-auth-oauthlib<1.1,>=0.5->tensorboard<2.13,>=2.12->tensorflow) (3.2.2)\n",
            "Building wheels for collected packages: python-docx\n",
            "  Building wheel for python-docx (setup.py) ... \u001b[?25l\u001b[?25hdone\n",
            "  Created wheel for python-docx: filename=python_docx-0.8.11-py3-none-any.whl size=184491 sha256=cc7103631b826389966f13029b4d880e7320494e10e7255ebbca8826d192a2f5\n",
            "  Stored in directory: /root/.cache/pip/wheels/80/27/06/837436d4c3bd989b957a91679966f207bfd71d358d63a8194d\n",
            "Successfully built python-docx\n",
            "Installing collected packages: python-docx\n",
            "Successfully installed python-docx-0.8.11\n",
            "FuzConvTrue model generated\n"
          ]
        }
      ]
    },
    {
      "cell_type": "markdown",
      "metadata": {
        "id": "4shhW79VFPZo"
      },
      "source": [
        "## Defining different functions to work with the architecture"
      ]
    },
    {
      "cell_type": "code",
      "execution_count": 42,
      "metadata": {
        "id": "ncV9NgizFPZp"
      },
      "outputs": [],
      "source": [
        "\n",
        "def train(model, X_train, y_train, X_valid, y_valid, X_test, y_test, batch_size, epochs, initial_epoch=0, model_name=\"\"):\n",
        "    start_time = time()\n",
        "    log_dir = \"/content/drive/My Drive/SIMPA_EGYPTIAN/4_Work_Jean_SIMPA/Python_codes/Trained_Models/\" + model_name + \"_\" + \"{}\".format(time())\n",
        "    tensorboard = tf.keras.callbacks.TensorBoard(log_dir)\n",
        "    filepath = log_dir + \"/saved-model-{epoch:02d}-{val_accuracy:.2f}.hdf5\"\n",
        "    checkpoint = tf.keras.callbacks.ModelCheckpoint(filepath, monitor='val_accuracy', save_best_only=False, mode='max')\n",
        "    model.reset_states()\n",
        "    history = model.fit(X_train, y_train, epochs=epochs, \n",
        "                        callbacks=[tensorboard,checkpoint], \n",
        "                        batch_size=batch_size, validation_data=(X_valid, y_valid), initial_epoch=initial_epoch)\n",
        "\n",
        "    metrics = model.evaluate(X_test, y_test, verbose=0)\n",
        "    results_dir = \"/content/drive/My Drive/SIMPA_EGYPTIAN/4_Work_Jean_SIMPA/Python_codes/Results/\" + model_name + \"/\"\n",
        "    if not os.path.exists(results_dir):\n",
        "        os.makedirs(results_dir)\n",
        "      \n",
        "    with plt.style.context('seaborn-white'):\n",
        "        plt.figure(figsize=(5, 5))\n",
        "        #plt.subplot(1,2,1)\n",
        "        #Plot training & validation accuracy values\n",
        "        plt.plot(history.history['accuracy'])\n",
        "        plt.plot(history.history['val_accuracy'])\n",
        "        plt.title('Accuracy Vs Epochs')\n",
        "        plt.ylabel('Accuracy')\n",
        "        plt.xlabel('Epoch')\n",
        "        plt.legend(['Train', 'Validation'], loc='upper left')\n",
        "        plt.grid('on')\n",
        "        plt.savefig(results_dir+'Accuracy_FuzConvTrue_'+model_name+'.eps', format='eps')\n",
        "        plt.savefig(results_dir+'Accuracy_FuzConvTrue_'+model_name+'.svg', format='svg')\n",
        "        plt.savefig(results_dir+'Accuracy_FuzConvTrue_'+model_name+'.pdf', format='pdf')\n",
        "        plt.show()\n",
        "        \n",
        "        plt.figure(figsize=(5, 5))\n",
        "        #plt.subplot(1,2,2)\n",
        "        #Plot training & validation loss values\n",
        "        plt.plot(history.history['loss'])\n",
        "        plt.plot(history.history['val_loss'])\n",
        "        plt.title('Loss Vs Epochs')\n",
        "        plt.ylabel('Loss')\n",
        "        plt.xlabel('Epoch')\n",
        "        plt.legend(['Train', 'Validation'], loc='upper left')\n",
        "        plt.grid('on')\n",
        "        plt.savefig(results_dir+'Loss_FuzConvTrue_'+model_name+'.eps', format='eps')\n",
        "        plt.savefig(results_dir+'Loss_FuzConvTrue_'+model_name+'.svg', format='svg')\n",
        "        plt.savefig(results_dir+'Loss_FuzConvTrue_'+model_name+'.pdf', format='pdf')\n",
        "        plt.show()\n",
        "\n",
        "        '''\n",
        "        plt.figure(figsize=(5, 5))\n",
        "        #plt.subplot(1,2,2)\n",
        "        #Plot training & validation loss values\n",
        "        plt.plot(history.history['lr'])\n",
        "        plt.ylabel('Lr')\n",
        "        plt.xlabel('Epoch')\n",
        "        plt.grid('on')\n",
        "        plt.show()\n",
        "        '''\n",
        "    TIME = tm.time() - start_time\n",
        "    print(\"Time \"+model_name+\" = %s [seconds]\" % TIME)\n",
        "    return {k:v for k,v in zip (model.metrics_names, metrics)}"
      ]
    },
    {
      "cell_type": "code",
      "execution_count": 43,
      "metadata": {
        "id": "WvlHKMxhFPZq"
      },
      "outputs": [],
      "source": [
        "def Final_Results_Test(model,PATH_trained_models):\n",
        "    B_accuracy = 0 #B --> Best\n",
        "    for filename in os.listdir(PATH_trained_models):\n",
        "        if filename != ('train') and filename != ('validation'):\n",
        "            print(filename)\n",
        "            model.load_weights(PATH_trained_models+'/'+filename)\n",
        "            loss,accuracy = model.evaluate(X_test, y_test,verbose=0)\n",
        "            print(f'Loss={loss:.4f} y Accuracy={accuracy:0.4f}'+'\\n') \n",
        "            if accuracy > B_accuracy:\n",
        "                B_accuracy = accuracy\n",
        "                B_loss = loss\n",
        "                B_name = filename\n",
        "    print(\"\\n\\nBest\")\n",
        "    print(B_name)\n",
        "    print(f'Loss={B_loss:.4f} y Accuracy={B_accuracy:0.4f}'+'\\n')"
      ]
    },
    {
      "cell_type": "code",
      "execution_count": 44,
      "metadata": {
        "id": "0g3tUZqQFPZr"
      },
      "outputs": [],
      "source": [
        "from tqdm import tqdm\n",
        "\n",
        "def plot_train_valid(model,PATH_trained_models,model_name):\n",
        "    acc_train=[]\n",
        "    acc_valid=[]\n",
        "    loss_train=[]\n",
        "    loss_valid=[]\n",
        "    for filename in tqdm(os.listdir(PATH_trained_models)):\n",
        "        if filename != ('train') and filename != ('validation'):\n",
        "            print(filename)\n",
        "            model.load_weights(PATH_trained_models+'/'+filename)\n",
        "            loss,accuracy = model.evaluate(X_train, y_train,verbose=0)\n",
        "            acc_train.append(accuracy)\n",
        "            loss_train.append(loss)\n",
        "            loss,accuracy = model.evaluate(X_valid, y_valid,verbose=0)\n",
        "            acc_valid.append(accuracy)\n",
        "            loss_valid.append(loss)\n",
        "\n",
        "    results_dir=\"/content/drive/My Drive/SIMPA_EGYPTIAN/4_Work_Jean_SIMPA/Python_codes/Results/\"+model_name+\"/\"\n",
        "    if not os.path.exists(results_dir):\n",
        "        os.makedirs(results_dir)\n",
        "\n",
        "    with plt.style.context('seaborn-white'):\n",
        "        plt.figure(figsize=(5, 5))\n",
        "        #plt.subplot(1,2,1)\n",
        "        #Plot training & validation accuracy values\n",
        "        plt.plot(acc_train)\n",
        "        plt.plot(acc_valid)\n",
        "        plt.title('Accuracy Vs Epochs')\n",
        "        plt.ylabel('Accuracy')\n",
        "        plt.xlabel('Epoch')\n",
        "        plt.legend(['Train', 'Validation'], loc='upper left')\n",
        "        plt.grid('on')\n",
        "        plt.savefig(results_dir+'FuzConvTrue_'+model_name+'.eps', format='eps')\n",
        "        plt.savefig(results_dir+'FuzConvTrue_'+model_name+'.svg', format='svg')\n",
        "        plt.savefig(results_dir+'FuzConvTrue_'+model_name+'.pdf', format='pdf')\n",
        "        plt.show()\n",
        "\n",
        "        plt.figure(figsize=(5, 5))\n",
        "        #plt.subplot(1,2,2)\n",
        "        #Plot training & validation loss values\n",
        "        plt.plot(loss_train)\n",
        "        plt.plot(loss_valid)\n",
        "        plt.title('Loss Vs Epochs')\n",
        "        plt.ylabel('Loss')\n",
        "        plt.xlabel('Epoch')\n",
        "        plt.legend(['Train', 'Validation'], loc='upper left')\n",
        "        plt.grid('on')\n",
        "        plt.savefig(results_dir+'FuzConvTrue_'+model_name+'.eps', format='eps')\n",
        "        plt.savefig(results_dir+'FuzConvTrue_'+model_name+'.svg', format='svg')\n",
        "        plt.savefig(results_dir+'FuzConvTrue_'+model_name+'.pdf', format='pdf')\n",
        "        plt.show()\n",
        "\n",
        "        '''\n",
        "        plt.figure(figsize=(5, 5))\n",
        "        #plt.subplot(1,2,2)\n",
        "        #Plot training & validation loss values\n",
        "        plt.plot(history.history['lr'])\n",
        "        plt.ylabel('Lr')\n",
        "        plt.xlabel('Epoch')\n",
        "        plt.grid('on')\n",
        "        plt.show()\n",
        "        '''\n",
        "    results={'acc_train':acc_train,'acc_valid':acc_valid,'loss_train':loss_train,'loss_valid':loss_valid}\n",
        "    return results"
      ]
    },
    {
      "cell_type": "markdown",
      "metadata": {
        "id": "EAFn8TQ-FPZs"
      },
      "source": [
        "## Plot ROC curves"
      ]
    },
    {
      "cell_type": "code",
      "execution_count": 45,
      "metadata": {
        "id": "pURdd362FPZt"
      },
      "outputs": [],
      "source": [
        "from sklearn.metrics import (\n",
        "    average_precision_score,\n",
        "    precision_recall_curve,\n",
        "    roc_auc_score,\n",
        "    roc_curve,\n",
        ")\n",
        "\n",
        "def get_curve(gt, pred, target_names,model_name):\n",
        "    labels=[]\n",
        "    for i in range(len(target_names)):\n",
        "        \n",
        "        curve_function = roc_curve\n",
        "        auc_roc = roc_auc_score(gt[:, i], pred[:, i])\n",
        "        label = model_name+target_names[i] + \" AUC: %.3f \" % auc_roc\n",
        "        labels.append(label)\n",
        "        xlabel = \"False positive rate\"\n",
        "        ylabel = \"True positive rate\"\n",
        "        a, b, _ = curve_function(gt[:, i], pred[:, i])\n",
        "        plt.figure(1, figsize=(7, 7))\n",
        "        plt.plot([0, 1], [0, 1], 'k--')\n",
        "        plt.plot(a, b, label=label)\n",
        "        plt.xlabel(xlabel)\n",
        "        plt.ylabel(ylabel)\n",
        "\n",
        "        plt.legend(loc='upper center', bbox_to_anchor=(1.3, 1),\n",
        "                  fancybox=True, ncol=1)\n",
        "      \n",
        "    return [a,b],labels\n",
        "labels = [\"innocent\",\"altered\"]"
      ]
    },
    {
      "cell_type": "markdown",
      "metadata": {
        "id": "2siaub2SFPZt"
      },
      "source": [
        "## Working with BOSSbase 1.01 WOW PAYLOAD = 0.1bpp"
      ]
    },
    {
      "cell_type": "code",
      "execution_count": 46,
      "metadata": {
        "colab": {
          "base_uri": "https://localhost:8080/"
        },
        "id": "7NPHVdwRFPZu",
        "outputId": "6213811f-e90c-4c86-be34-2f82631fa584"
      },
      "outputs": [
        {
          "output_type": "stream",
          "name": "stdout",
          "text": [
            "(50, 256, 256)\n",
            "(50, 2)\n",
            "(30, 256, 256)\n",
            "(30, 2)\n",
            "(20, 256, 256)\n",
            "(20, 2)\n"
          ]
        }
      ],
      "source": [
        "PATH_1 = '/content/drive/My Drive/SIMPA_EGYPTIAN/4_Work_Jean_SIMPA/Python_codes/Numpy_files/'\n",
        "#Dataset\n",
        "EPOCHS=10\n",
        "\n",
        "#Train\n",
        "X_train = np.load(PATH_1+'X_training.npy')\n",
        "y_train = np.load(PATH_1+'y_training.npy')\n",
        "#Valid\n",
        "X_valid = np.load(PATH_1+'X_validating.npy')\n",
        "y_valid = np.load(PATH_1+'y_validating.npy')\n",
        "#Test\n",
        "X_test = np.load(PATH_1+'X_testing.npy')\n",
        "y_test = np.load(PATH_1+'y_testing.npy')\n",
        "\n",
        "print(X_train.shape)\n",
        "print(y_train.shape)\n",
        "print(X_valid.shape)\n",
        "print(y_valid.shape)\n",
        "print(X_test.shape)\n",
        "print(y_test.shape)\n"
      ]
    },
    {
      "cell_type": "markdown",
      "metadata": {
        "id": "ygxLPPfDFPZu"
      },
      "source": [
        "## CNN name and algorithm "
      ]
    },
    {
      "cell_type": "code",
      "execution_count": 47,
      "metadata": {
        "id": "l1r0i6BKFPZu"
      },
      "outputs": [],
      "source": [
        "base_name=\"FuzConvTrue\"\n",
        "m_name=\"FuzConvTrue\""
      ]
    },
    {
      "cell_type": "markdown",
      "metadata": {
        "id": "-fiOlErOFPZv"
      },
      "source": [
        "## Training"
      ]
    },
    {
      "cell_type": "code",
      "source": [
        "model= FuzConvTrue() \n",
        "name=\"Model_\"+m_name+\"_\"+base_name\n",
        "_, history  = train(model, X_train, y_train, X_valid, y_valid, X_test, y_test, batch_size=32, epochs=10, model_name=name)"
      ],
      "metadata": {
        "id": "U08Y0mJcepXV",
        "colab": {
          "base_uri": "https://localhost:8080/",
          "height": 1000
        },
        "outputId": "e56debaa-0bd2-4eca-d726-9aef8232990c"
      },
      "execution_count": 48,
      "outputs": [
        {
          "output_type": "stream",
          "name": "stdout",
          "text": [
            "FuzConvTrue model generated\n",
            "Epoch 1/10\n",
            "2/2 [==============================] - 8s 871ms/step - loss: 0.6781 - accuracy: 0.5200 - val_loss: 0.7043 - val_accuracy: 0.5000\n",
            "Epoch 2/10\n",
            "2/2 [==============================] - 1s 559ms/step - loss: 0.6251 - accuracy: 0.6800 - val_loss: 0.7294 - val_accuracy: 0.5000\n",
            "Epoch 3/10\n",
            "2/2 [==============================] - 1s 539ms/step - loss: 0.6645 - accuracy: 0.6400 - val_loss: 0.8063 - val_accuracy: 0.5000\n",
            "Epoch 4/10\n",
            "2/2 [==============================] - 1s 548ms/step - loss: 0.5585 - accuracy: 0.7600 - val_loss: 0.8100 - val_accuracy: 0.5000\n",
            "Epoch 5/10\n",
            "2/2 [==============================] - 1s 600ms/step - loss: 0.5269 - accuracy: 0.7200 - val_loss: 1.0005 - val_accuracy: 0.5000\n",
            "Epoch 6/10\n",
            "2/2 [==============================] - 1s 598ms/step - loss: 0.4633 - accuracy: 0.8200 - val_loss: 0.8206 - val_accuracy: 0.5000\n",
            "Epoch 7/10\n",
            "2/2 [==============================] - 1s 595ms/step - loss: 0.4770 - accuracy: 0.8000 - val_loss: 0.8446 - val_accuracy: 0.5000\n",
            "Epoch 8/10\n",
            "2/2 [==============================] - 1s 604ms/step - loss: 0.4596 - accuracy: 0.7600 - val_loss: 0.8849 - val_accuracy: 0.5000\n",
            "Epoch 9/10\n",
            "2/2 [==============================] - 1s 641ms/step - loss: 0.5192 - accuracy: 0.7600 - val_loss: 0.8643 - val_accuracy: 0.5000\n",
            "Epoch 10/10\n",
            "2/2 [==============================] - 1s 625ms/step - loss: 0.4189 - accuracy: 0.8400 - val_loss: 0.8901 - val_accuracy: 0.5000\n"
          ]
        },
        {
          "output_type": "display_data",
          "data": {
            "text/plain": [
              "<Figure size 500x500 with 1 Axes>"
            ],
            "image/png": "[encoded data removed]"
          },
          "metadata": {}
        },
        {
          "output_type": "display_data",
          "data": {
            "text/plain": [
              "<Figure size 500x500 with 1 Axes>"
            ],
            "image/png": "[encoded data removed]"
          },
          "metadata": {}
        },
        {
          "output_type": "stream",
          "name": "stdout",
          "text": [
            "Time Model_FuzConvTrue_FuzConvTrue = 23.872742176055908 [seconds]\n"
          ]
        }
      ]
    },
    {
      "cell_type": "markdown",
      "metadata": {
        "id": "t-joz4NOFPZv"
      },
      "source": [
        "## Test"
      ]
    },
    {
      "cell_type": "code",
      "source": [
        "model= FuzConvTrue() \n",
        "PATH_trained_models = 'content/drive/My Drive/SIMPA_EGYPTIAN/4_Work_Jean_SIMPA/Python_codes/Trained_Models'\n",
        "Final_Results_Test(FuzConvTrue(),'/content/drive/My Drive/SIMPA_EGYPTIAN/4_Work_Jean_SIMPA/Python_codes/Trained_Models/')"
      ],
      "metadata": {
        "id": "eLl4CL3bevBe",
        "colab": {
          "base_uri": "https://localhost:8080/"
        },
        "outputId": "7b5a0046-4e70-450f-c8a8-0805096b0598"
      },
      "execution_count": 64,
      "outputs": [
        {
          "output_type": "stream",
          "name": "stdout",
          "text": [
            "FuzConvTrue model generated\n",
            "FuzConvTrue model generated\n",
            "Best_trained_model.hdf5\n",
            "Loss=0.8057 y Accuracy=0.5000\n",
            "\n",
            "\n",
            "\n",
            "Best\n",
            "Best_trained_model.hdf5\n",
            "Loss=0.8057 y Accuracy=0.5000\n",
            "\n"
          ]
        }
      ]
    },
    {
      "cell_type": "markdown",
      "metadata": {
        "id": "dSTNhxeAFPZx"
      },
      "source": [
        "## ROC curves"
      ]
    },
    {
      "cell_type": "code",
      "source": [
        "model= FuzConvTrue() \n",
        "model.load_weights('/content/drive/My Drive/SIMPA_EGYPTIAN/4_Work_Jean_SIMPA/Python_codes/Trained_Models/Best_trained_model.hdf5') #path best model\n",
        "predictions= model.predict(X_test,verbose=0)\n",
        "labels = [\"innocent\",\"altered\"] \n",
        "model_name=\"FuzConvTrue \"\n",
        "curve1,labels1=get_curve(y_test, predictions, labels,model_name)"
      ],
      "metadata": {
        "id": "dWhEL6kif9Tq",
        "colab": {
          "base_uri": "https://localhost:8080/",
          "height": 636
        },
        "outputId": "79f93c5c-5df6-439d-981d-ff981fb95977"
      },
      "execution_count": 66,
      "outputs": [
        {
          "output_type": "stream",
          "name": "stdout",
          "text": [
            "FuzConvTrue model generated\n"
          ]
        },
        {
          "output_type": "display_data",
          "data": {
            "text/plain": [
              "<Figure size 700x700 with 1 Axes>"
            ],
            "image/png": "[encoded data removed]"
          },
          "metadata": {}
        }
      ]
    },
    {
      "cell_type": "markdown",
      "metadata": {
        "id": "f-VrYW1bFPZx"
      },
      "source": [
        "# END"
      ]
    }
  ],
  "metadata": {
    "kernelspec": {
      "display_name": "Python 3",
      "name": "python3"
    },
    "language_info": {
      "name": "python"
    },
    "colab": {
      "provenance": [],
      "gpuType": "T4"
    },
    "accelerator": "GPU"
  },
  "nbformat": 4,
  "nbformat_minor": 0
}